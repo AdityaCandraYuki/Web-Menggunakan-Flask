{
  "cells": [
    {
      "cell_type": "markdown",
      "metadata": {
        "id": "view-in-github",
        "colab_type": "text"
      },
      "source": [
        "<a href=\"https://colab.research.google.com/github/AdityaCandraYuki/Web-Menggunakan-Flask/blob/main/flask%20learning.ipynb\" target=\"_parent\"><img src=\"https://colab.research.google.com/assets/colab-badge.svg\" alt=\"Open In Colab\"/></a>"
      ]
    },
    {
      "cell_type": "code",
      "execution_count": null,
      "metadata": {
        "id": "dqGyhLClJKQU",
        "outputId": "c9374618-1ff1-4d6e-dfc8-d2743b4cda09"
      },
      "outputs": [
        {
          "name": "stdout",
          "output_type": "stream",
          "text": [
            "Requirement already satisfied: flask in c:\\users\\user\\anaconda3\\lib\\site-packages (1.1.2)\n",
            "Requirement already satisfied: itsdangerous>=0.24 in c:\\users\\user\\anaconda3\\lib\\site-packages (from flask) (2.0.1)\n",
            "Requirement already satisfied: Werkzeug>=0.15 in c:\\users\\user\\anaconda3\\lib\\site-packages (from flask) (2.0.3)\n",
            "Requirement already satisfied: click>=5.1 in c:\\users\\user\\anaconda3\\lib\\site-packages (from flask) (8.0.4)\n",
            "Requirement already satisfied: Jinja2>=2.10.1 in c:\\users\\user\\anaconda3\\lib\\site-packages (from flask) (2.11.3)\n",
            "Requirement already satisfied: colorama in c:\\users\\user\\anaconda3\\lib\\site-packages (from click>=5.1->flask) (0.4.5)\n",
            "Requirement already satisfied: MarkupSafe>=0.23 in c:\\users\\user\\anaconda3\\lib\\site-packages (from Jinja2>=2.10.1->flask) (2.0.1)\n"
          ]
        }
      ],
      "source": [
        "! pip install flask"
      ]
    },
    {
      "cell_type": "markdown",
      "metadata": {
        "id": "WOqz3coxJKQb"
      },
      "source": [
        "# penggunaan pertama flask\n"
      ]
    },
    {
      "cell_type": "code",
      "execution_count": null,
      "metadata": {
        "id": "Y7_ts0cwJKQe"
      },
      "outputs": [],
      "source": [
        "from flask import Flask \n",
        "app = Flask(__name__)\n",
        "\n",
        "@app.route(\"/index\")\n",
        "def indexku():\n",
        "    return \"Halo Flask-ku !\"\n",
        "\n",
        "if __name__ == \"__main__\":\n",
        "    app.run(debug=True)"
      ]
    },
    {
      "cell_type": "markdown",
      "metadata": {
        "id": "1XRJyi4bJKQf"
      },
      "source": [
        "`Flask(__name__)` adalah sebuah objek aplikasi Flask yabng dibuat dengan menggunakan constructor class Flask pada modul Flask.\n",
        "\n",
        " `__name__` adalah parameter pertama yang diberikan pada constructor class Flask, yang menanandakan nama modul atau nama package aplikasi.\n",
        "\n",
        " Dalam pembuatanm aplikasi web menggunakan Flask, objek Flask ini digunakan untuk menginisialisasi aplikasi dan melakukan konfigurasi dasar, seperti mengatur route, menghubungkan ke database, dan menambahkan plugin. \n",
        "\n",
        " `if __name__ == '__main__':` adalah conditional statement. ini digunakan untuk memeriksa apakah file yang sedang dijalankan adalah file utama (main program) atau hanya sebuah modul yang diimpor oleh file lain."
      ]
    },
    {
      "cell_type": "markdown",
      "metadata": {
        "id": "aFHGpi4IJKQg"
      },
      "source": [
        "jangan lupa menambahkan routenya di akhir url"
      ]
    },
    {
      "cell_type": "markdown",
      "metadata": {
        "id": "aDUGFvTjJKQg"
      },
      "source": [
        "<center>\n",
        "\n",
        "\n",
        "![image.png](attachment:image.png)\n"
      ]
    },
    {
      "cell_type": "markdown",
      "metadata": {
        "id": "tC2-Go6eJKQh"
      },
      "source": [
        "# Penggunaan HTML di dalam return\n",
        "selanjutnya bagaimana cara menggunakan render template menggunakan `.html`"
      ]
    },
    {
      "cell_type": "code",
      "execution_count": null,
      "metadata": {
        "id": "sdKlOB9cJKQh"
      },
      "outputs": [],
      "source": [
        "from flask import Flask \n",
        "app = Flask(__name__)\n",
        "\n",
        "@app.route(\"/index\")\n",
        "def indexku():\n",
        "    return \"<h1> Hallo Flask-ku ! </h1><br /> <h3> Selamat datang di Flask-ku </h3>\"\n",
        "\n",
        "if __name__ == \"__main__\":\n",
        "    app.run(debug=True)"
      ]
    },
    {
      "cell_type": "markdown",
      "metadata": {
        "id": "fs3Zu3hJJKQi"
      },
      "source": [
        "<center>\n",
        "\n",
        "![image.png](attachment:image.png)"
      ]
    },
    {
      "cell_type": "markdown",
      "metadata": {
        "id": "KK0sYDEUJKQi"
      },
      "source": [
        "# **Render template**"
      ]
    },
    {
      "cell_type": "markdown",
      "metadata": {
        "id": "itf5LoOoJKQj"
      },
      "source": [
        "bisa menimport dengan dengan render template. lalu menyimpan di dalam satu folder template di folder projectnya.\n",
        "\n",
        "\n",
        "`render_template` adalah fungsi pada Flask yang digunakan untuk menghasilkan tampilan HTML berdasarkan file template HTML yang telah dibuat. Dalam sebuah aplikasi web, HTML berperan sebagai tampilan tampilan yang ditampilkan kepada pengguna. Dengan menggunakan Flask dan fungsi `render_template`, kita dapat menghasilkan tampilan HTML yang diinginkan dengan mudah.\n",
        "\n",
        "Fungsi `render_template` menerima minimal satu argumen, yaitu nama file template HTML yang akan digunakan. selain itu, kita juga dapat menyertakan argumen lain seperti variable-variable yang akan digunakan dalam tampilan HTML. variable-variable tersebut akan dipasang ke dala, file template HTML sehingga dapat digunakan untuk menampilkan data pada tampilan"
      ]
    },
    {
      "cell_type": "code",
      "execution_count": null,
      "metadata": {
        "id": "vYgfNfW1JKQk"
      },
      "outputs": [],
      "source": [
        "from flask import Flask, render_template\n",
        "app = Flask(__name__)\n",
        "\n",
        "@app.route(\"/\")\n",
        "def indexku():\n",
        "    return render_template(\"index.html\")\n",
        "\n",
        "if __name__ == \"__main__\":\n",
        "    app.run(debug=True)"
      ]
    },
    {
      "cell_type": "markdown",
      "metadata": {
        "id": "1RcomqYDJKQk"
      },
      "source": [
        "buka file `index.html` untuk lebih mengerti flownya\n",
        "\n"
      ]
    },
    {
      "cell_type": "markdown",
      "metadata": {
        "id": "wPIo3DN1JKQl"
      },
      "source": [
        "<center> index.html </center> \n",
        "<center>\n",
        "\n",
        "\n",
        "![image.png](attachment:image.png)"
      ]
    },
    {
      "cell_type": "markdown",
      "metadata": {
        "id": "tNsbuuvAJKQl"
      },
      "source": [
        "# Belajar looping di dalam website\n"
      ]
    },
    {
      "cell_type": "code",
      "execution_count": null,
      "metadata": {
        "id": "dY3XpVRmJKQl"
      },
      "outputs": [],
      "source": [
        "from flask import Flask, render_template\n",
        "app = Flask(__name__)\n",
        "\n",
        "@app.route('/')\n",
        "def index():\n",
        "    # belajar looping\n",
        "    hari = ['senin',\n",
        "            'selasa',\n",
        "            'rabu',\n",
        "            'kamis',\n",
        "            'jumat',\n",
        "            'sabtu',\n",
        "            'minggu']\n",
        "    return render_template('index.html', value=hari) # memasukkan variable hari untuk dilooping\n",
        "\n",
        "if __name__ ==  '__main__':\n",
        "    app.run(debug=True)"
      ]
    },
    {
      "cell_type": "markdown",
      "metadata": {
        "id": "wE7RO0fyJKQm"
      },
      "source": [
        "<center>\n",
        "\n",
        "![image.png](attachment:image.png)"
      ]
    },
    {
      "cell_type": "markdown",
      "metadata": {
        "id": "O3u1pXKmJKQm"
      },
      "source": [
        "# conditioning if-else statements"
      ]
    },
    {
      "cell_type": "code",
      "execution_count": null,
      "metadata": {
        "id": "1233v7OdJKQn"
      },
      "outputs": [],
      "source": [
        "from flask import Flask, render_template\n",
        "app = Flask(__name__)\n",
        "\n",
        "@app.route('/')\n",
        "def index():\n",
        "    # belajar looping\n",
        "    hari = ['senin',\n",
        "            'selasa',\n",
        "            'rabu',\n",
        "            'kamis',\n",
        "            'jumat',\n",
        "            'sabtu',\n",
        "            'minggu']\n",
        "    # conditioning / if-else statement\n",
        "    suasana = 'senang' # jika senang maka dia juga cinta, jika tidak maka dia sedih.\n",
        "    return render_template('index.html',\n",
        "                        value=hari, # memasukkan variable hari untuk dilooping\n",
        "                        suasana=suasana) \n",
        "    \n",
        "if __name__ ==  '__main__':\n",
        "    app.run(debug=True)"
      ]
    },
    {
      "cell_type": "markdown",
      "metadata": {
        "id": "c02DqLsBJKQo"
      },
      "source": [
        "kode di atas terhubung di file index.html yang di dalam index.html sendiri dilakukan if-else\n"
      ]
    },
    {
      "cell_type": "markdown",
      "metadata": {
        "id": "E9-TEj79JKQo"
      },
      "source": [
        "![image.png](attachment:image.png)"
      ]
    },
    {
      "cell_type": "markdown",
      "metadata": {
        "id": "GDK30IDVJKQp"
      },
      "source": [
        "# **Menggabungkan dengan berbagai file html**"
      ]
    },
    {
      "cell_type": "code",
      "execution_count": null,
      "metadata": {
        "id": "zQ6HVQ05JKQp"
      },
      "outputs": [],
      "source": [
        "from flask import Flask, render_template\n",
        "app = Flask(__name__)\n",
        "\n",
        "@app.route('/')\n",
        "def index():\n",
        "    # belajar looping\n",
        "    hari = ['senin',\n",
        "            'selasa',\n",
        "            'rabu',\n",
        "            'kamis',\n",
        "            'jumat',\n",
        "            'sabtu',\n",
        "            'minggu']\n",
        "    # conditioning / if-else statement\n",
        "    suasana = 'senang' # jika senang maka dia juga cinta, jika tidak maka dia sedih.\n",
        "    return render_template('index.html', value=hari, suasana=suasana) # memasukkan variable hari untuk dilooping\n",
        "    \n",
        "@app.route('/about')\n",
        "def aboutku():\n",
        "    return render_template('about.html')\n",
        "\n",
        "@app.route('/contact')\n",
        "def contact():\n",
        "    return render_template('contact.html')\n",
        "\n",
        "if __name__ ==  '__main__':\n",
        "    app.run(debug=True)"
      ]
    },
    {
      "cell_type": "markdown",
      "metadata": {
        "id": "I3OOxgxnJKQq"
      },
      "source": [
        "**codesnap pada about.html**"
      ]
    },
    {
      "cell_type": "markdown",
      "metadata": {
        "id": "-R5PRy-5JKQq"
      },
      "source": [
        "![image.png](attachment:image.png)"
      ]
    },
    {
      "cell_type": "markdown",
      "metadata": {
        "id": "JDc2_499JKQr"
      },
      "source": [
        "penjelasan: sintaksis {% extends 'main_layout.html%} yang berada di about.html dan contact.html adalah kerangka kerja untuk memperluas tampilan yang telah ditentukan sebelumnya dengan menambahkan blok-blok baru atau mengubah blok-blok yang ada.\n",
        "\n",
        "sintaksis `extends` digunakan untuk mewarisi blok-blok dari tampilan induk (main_layout.html) ke tampilan anak. tampilan anak dapat menambahkan atau mengubah blok-blok sesuai kebutuhan."
      ]
    },
    {
      "cell_type": "markdown",
      "metadata": {
        "id": "JXXK4_pXJKQr"
      },
      "source": [
        "di dalam file main_layout.html terdapat sintaksis  {% block content %}{% endblock  %} pada parent view.\n",
        "\n",
        "lalu pada tampilan anak terdapat sintaksis {% block content %}{% endblock %} yang akan mengisi di tempat yang telah diwarisi parent view."
      ]
    },
    {
      "cell_type": "markdown",
      "metadata": {
        "id": "XDBbJZSQJKQr"
      },
      "source": [
        "# parsing|\n"
      ]
    },
    {
      "cell_type": "markdown",
      "metadata": {
        "id": "nUxOkHjGJKQs"
      },
      "source": [
        "<center>\n",
        "\n",
        "![image.png](attachment:image.png)"
      ]
    },
    {
      "cell_type": "markdown",
      "metadata": {
        "id": "8fTM2fFuJKQs"
      },
      "source": [
        "di argumen parser menggunakan tanda tanya sebagai pemisah host dengan argumennya"
      ]
    },
    {
      "cell_type": "markdown",
      "metadata": {
        "id": "1z7uuSX4JKQs"
      },
      "source": [
        "\n",
        "## Parsing nilai interger"
      ]
    },
    {
      "cell_type": "code",
      "execution_count": null,
      "metadata": {
        "id": "9DZEqQMbJKQt"
      },
      "outputs": [],
      "source": [
        "from flask import Flask, render_template\n",
        "app = Flask(__name__)\n",
        "\n",
        "@app.route('/')\n",
        "def index():\n",
        "    # belajar looping\n",
        "    hari = ['senin',\n",
        "            'selasa',\n",
        "            'rabu',\n",
        "            'kamis',\n",
        "            'jumat',\n",
        "            'sabtu',\n",
        "            'minggu']\n",
        "    # conditioning / if-else statement\n",
        "    suasana = 'senang' # jika senang maka dia juga cinta, jika tidak maka dia sedih.\n",
        "    return render_template('index.html', value=hari, suasana=suasana) # memasukkan variable hari untuk dilooping\n",
        "    \n",
        "@app.route('/about')\n",
        "def aboutku():\n",
        "    return render_template('about.html')\n",
        "\n",
        "@app.route('/contact')\n",
        "def contact():\n",
        "    return render_template('contact.html')\n",
        "\n",
        "\n",
        "# parsing nilai interger\n",
        "@app.route('/parsing/<int:nilaiku>')\n",
        "def ayo_parsing(nilaiku):\n",
        "    return \"nilainya adalah : {} \".format(nilaiku)\n",
        "\n",
        "if __name__ ==  '__main__':\n",
        "    app.run(debug=True)"
      ]
    },
    {
      "cell_type": "markdown",
      "metadata": {
        "id": "rnnmahWmJKQt"
      },
      "source": [
        "parsing nilai:\n",
        "\n",
        "`<int:nilaiku>` adalah parameter dari URL yang didefiniskan sebagai interger. dengan menempatkan tipe data interger di dalam tanda kurung siku `<>`, Flask akan memastikan dengan tipe data yang diharapkan. "
      ]
    },
    {
      "cell_type": "markdown",
      "metadata": {
        "id": "slbceKSaJKQu"
      },
      "source": [
        "## Parsing nilai tipe string"
      ]
    },
    {
      "cell_type": "code",
      "execution_count": null,
      "metadata": {
        "id": "tHVgDv3PJKQu"
      },
      "outputs": [],
      "source": [
        "from flask import Flask, render_template\n",
        "app = Flask(__name__)\n",
        "\n",
        "@app.route('/')\n",
        "def index():\n",
        "    # belajar looping\n",
        "    hari = ['senin',\n",
        "            'selasa',\n",
        "            'rabu',\n",
        "            'kamis',\n",
        "            'jumat',\n",
        "            'sabtu',\n",
        "            'minggu']\n",
        "    # conditioning / if-else statement\n",
        "    suasana = 'senang' # jika senang maka dia juga cinta, jika tidak maka dia sedih.\n",
        "    return render_template('index.html', value=hari, suasana=suasana) # memasukkan variable hari untuk dilooping\n",
        "    \n",
        "@app.route('/about')\n",
        "def aboutku():\n",
        "    return render_template('about.html')\n",
        "\n",
        "@app.route('/contact')\n",
        "def contact():\n",
        "    return render_template('contact.html')\n",
        "\n",
        "\n",
        "# parsing nilai interger\n",
        "@app.route('/parsing/<int:nilaiku>')\n",
        "def ayo_parsing(nilaiku):\n",
        "    return \"nilainya adalah : {} \".format(nilaiku)\n",
        "\n",
        "# Parsing nilai string\n",
        "@app.route('/parsing/<string:stringku>')\n",
        "def ayo_string(stringku):\n",
        "    return \"nilainya adalah : {} \".format(stringku)\n",
        "\n",
        "if __name__ ==  '__main__':\n",
        "    app.run(debug=True)"
      ]
    },
    {
      "cell_type": "markdown",
      "metadata": {
        "id": "TzATawp0JKQv"
      },
      "source": [
        "parsing nilai interger dan parsing nilai string tidak akan saling bertabrakan karena fungsi mengetahui jika user menginput numerik, fungsi yang berfungsi adalah ayo_parsing(nilaiku). jika user menginput kata-kata yang pasti bertipe data string. maka akan memanggil fungsi ayo_string(stringku)"
      ]
    },
    {
      "cell_type": "markdown",
      "metadata": {
        "id": "tfo93B_0JKQv"
      },
      "source": [
        "## Parsing argument"
      ]
    },
    {
      "cell_type": "markdown",
      "metadata": {
        "id": "24VwbUmyJKQw"
      },
      "source": [
        "mengimport fungsi `request` dari Flask "
      ]
    },
    {
      "cell_type": "code",
      "execution_count": null,
      "metadata": {
        "id": "8Zvda_cYJKQw"
      },
      "outputs": [],
      "source": [
        "from flask import Flask, render_template, request\n",
        "app = Flask(__name__)\n",
        "\n",
        "@app.route('/')\n",
        "def index():\n",
        "    # belajar looping\n",
        "    hari = ['senin',\n",
        "            'selasa',\n",
        "            'rabu',\n",
        "            'kamis',\n",
        "            'jumat',\n",
        "            'sabtu',\n",
        "            'minggu']\n",
        "    # conditioning / if-else statement\n",
        "    suasana = 'senang' # jika senang maka dia juga cinta, jika tidak maka dia sedih.\n",
        "    return render_template('index.html', value=hari, suasana=suasana) # memasukkan variable hari untuk dilooping\n",
        "    \n",
        "@app.route('/about')\n",
        "def aboutku():\n",
        "    return render_template('about.html')\n",
        "\n",
        "@app.route('/contact')\n",
        "def contact():\n",
        "    return render_template('contact.html')\n",
        "\n",
        "\n",
        "# parsing nilai interger\n",
        "@app.route('/parsing/<int:nilaiku>')\n",
        "def ayo_parsing(nilaiku):\n",
        "    return \"nilainya adalah : {} \".format(nilaiku)\n",
        "\n",
        "# Parsing nilai string\n",
        "@app.route('/parsing/<string:stringku>')\n",
        "def ayo_string(stringku):\n",
        "    return \"nilainya adalah : {} \".format(stringku)\n",
        "\n",
        "# parsing argument\n",
        "@app.route('/parsingargumen')\n",
        "def parse_argument():\n",
        "    data = request.args.get(\"nilai\")\n",
        "    return \"parsing argumennya adalah {}\".format(data)\n",
        "\n",
        "if __name__ ==  '__main__':\n",
        "    app.run(debug=True)"
      ]
    },
    {
      "cell_type": "markdown",
      "metadata": {
        "id": "JEq36JHuJKRB"
      },
      "source": [
        "`request.args.get()` adalah metode yang tersedia dalam objek fungsi `request` Pada kerangka kerja Flask untuk mengambil argumen di URL dengan metode Http request."
      ]
    },
    {
      "cell_type": "markdown",
      "metadata": {
        "id": "8MKvrJfzJKRC"
      },
      "source": [
        "<center>\n",
        "\n",
        "![image.png](attachment:image.png)\n",
        "\n",
        "\n",
        "</center>\n",
        "\n",
        "pada kode @app.route(\"/parsinargumen\") ketika URL `/parsinargumen` diakses, Flask akan memamnggil fungsi parse_argument(). fungsi ini menggunakan objek `request` dari Flask untuk mengammbil argumen dari URL dengan nama `nilai`. dalam hal ini, argumen diambil dari string query di URL, yang dimulai dengan tanda tanya `?` dan dengan pasangan nama dan nilai, seperti `?nilai=90`. \n"
      ]
    },
    {
      "cell_type": "markdown",
      "metadata": {
        "id": "-CQEBdf-JKRC"
      },
      "source": [
        "# Belajar Session\n",
        "- Variabel di server yang bersifat accessibles\n",
        "- login akun\n",
        "- termasuk metode dalam Flask\n",
        "\n",
        "Session pada Flask berguna untuk menyimpan data yang spesifik untuk setiap pengguna (user) dalam satu sesi (session). Data tersebut bisa berupa informasi pengguan seperti username atau data yang diperoleh dari pengguna seperti input form atau hasil pencarian. Data yang disimpan di dalam session akan tetap tersedia  selama pengguna masih berada dalam sesi, bahkan jika pengguna meninggalkan halaman atau menutup browser.\n",
        "\n",
        "\n",
        "Session pada Flask menggunakan cookies untuk mengidentifikasi sesi pengguna. Cookies adalah sebuah file yang disimpan di browser pengguna dan dikirm kembali ke server pada setiap permintaan. Dengan menggunakan cookies, Flask bisa mengidentifikasi pengguna yang sudah login dan menyimpan data yang bersangkutan ke dalam session.\n",
        "\n",
        "beberapa contoh penggunaan session pada Flask antara lain:\n",
        "\n",
        "1. Menyimpan data pengguna yang sudah login seperti username, role, dan hak akses.\n",
        "2. Menyimpan data input form yang telah diisi oleh pengguna agar pengguna tidak perlu mengisi ulang jika halaman dimuat ulang atau jika terjadi kesalahan saat validisasi form\n",
        "3. Menyimpan data hasil pencarian pengguna agar pengguna bisa kembali melihat hasil pencarian tersebut tanpa perlu mengulang isi form pencarian.\n",
        "4. Menyimpan data keranjang belanja pengguna agar pengguna bisa membeli barang-barang tersebut dalam satu sesi tanpa perlu memasukkan ulang ke keranjang."
      ]
    },
    {
      "cell_type": "code",
      "execution_count": null,
      "metadata": {
        "id": "GjR2kNguJKRC"
      },
      "outputs": [],
      "source": [
        "from flask import Flask, render_template, request, session\n",
        "\n",
        "app = Flask(__name__)\n",
        "app.config[\"SECRET_KEY\"] = \"iniSecretKeyKu2023\""
      ]
    },
    {
      "cell_type": "markdown",
      "metadata": {
        "id": "i_PTJbc9JKRC"
      },
      "source": [
        "Flask membutuhkan secreat key dengan cara `app.config[]`. jika tidak set maka akan error saat menjalankan aplikasinya"
      ]
    },
    {
      "cell_type": "code",
      "execution_count": null,
      "metadata": {
        "id": "dxpVrDRIJKRD"
      },
      "outputs": [],
      "source": [
        "from flask import Flask, render_template, request, session\n",
        "\n",
        "app = Flask(__name__)\n",
        "app.config[\"SECRET_KEY\"] = \"iniSecretKeyKu2023\"\n",
        "\n",
        "# memparsing nilai dari url untuk mengeset nilai session\n",
        "@app.route(\"/halaman/<int:nilai>\")\n",
        "def session_1(nilai):\n",
        "    session[\"nilaiku\"] = nilai\n",
        "    return \"berhasil mengeset nilai\"\n",
        "# pada kodingan di atas, sesi yang disimpan dengan variabel session[\"nilaiku\"]\n",
        "# yang diambil dari /<int:nilai>\n",
        "\n",
        "@app.route(\"/halaman/lihat\")\n",
        "def view_session_1():\n",
        "    data = session[\"nilaiku\"]\n",
        "    return \"nilai yang telah diset adalah = {}\".format(data)\n",
        "\n",
        "# sesi yang sudah disimpan akan dipanggil lagi \n",
        "# dengan variabel data yang berisi session[\"nilaiku\"]\n"
      ]
    },
    {
      "cell_type": "markdown",
      "metadata": {
        "id": "FIaImafSJKRD"
      },
      "source": [
        "Pada fungsi session_1(nilai), argumen nilai digunakan untuk menyimpan nilai ke dalam session dengan key \"nilaiku\". Dalam hal ini, nilai diambil dari URL dan dikonversi menjadi tipe data integer dengan menggunakan decorator <int:nilai> pada route.\n",
        "\n",
        "Dengan memasukkan argumen nilai, Flask dapat mengambil nilai dari URL dan menyimpannya ke dalam session dengan key \"nilaiku\". Jadi, ketika route /halaman/<int:nilai> diakses, nilai nilai akan diambil dari URL, dikonversi menjadi tipe data integer, dan kemudian disimpan ke dalam session dengan key \"nilaiku\".\n",
        "\n",
        "Tanpa argumen nilai, Flask tidak akan dapat mengambil nilai dari URL dan menyimpannya ke dalam session dengan key \"nilaiku\". Sehingga, pada saat fungsi sesi_lihat() diakses, Flask tidak akan dapat menampilkan nilai yang disimpan sebelumnya karena tidak ada nilai yang tersimpan di dalam session dengan key \"nilaiku\"."
      ]
    },
    {
      "cell_type": "markdown",
      "metadata": {
        "id": "Peu6WAm_JKRD"
      },
      "source": [
        "di bawah adalah kodingan full\n"
      ]
    },
    {
      "cell_type": "code",
      "execution_count": null,
      "metadata": {
        "id": "sIkwHkaYJKRD"
      },
      "outputs": [],
      "source": [
        "from flask import Flask, render_template, request, session\n",
        "app = Flask(__name__)\n",
        "app.config[\"SECRET_KEY\"] = \"secretku2023\"\n",
        "\n",
        "@app.route('/')\n",
        "def index():\n",
        "    # belajar looping\n",
        "    hari = ['senin',\n",
        "            'selasa',\n",
        "            'rabu',\n",
        "            'kamis',\n",
        "            'jumat',\n",
        "            'sabtu',\n",
        "            'minggu']\n",
        "    # conditioning / if-else statement\n",
        "    suasana = 'senang' # jika senang maka dia juga cinta, jika tidak maka dia sedih.\n",
        "    return render_template('index.html',\n",
        "                        value=hari, # memasukkan variable hari untuk dilooping\n",
        "                        suasana=suasana) \n",
        "    \n",
        "@app.route('/about')\n",
        "def aboutku():\n",
        "    return render_template('about.html')\n",
        "\n",
        "@app.route('/contact')\n",
        "def contact():\n",
        "    return render_template('contact.html')\n",
        "\n",
        "\n",
        "# parsing nilai interger\n",
        "@app.route('/parsing/<int:nilaiku>')\n",
        "def ayo_parsing(nilaiku):\n",
        "    return \"nilainya adalah : {} \".format(nilaiku)\n",
        "\n",
        "# Parsing nilai string\n",
        "@app.route('/parsing/<string:stringku>')\n",
        "def ayo_string(stringku):\n",
        "    return \"nilainya adalah : {} \".format(stringku)\n",
        "\n",
        "# parsing argument\n",
        "@app.route('/parsingargumen')\n",
        "def parse_argument():\n",
        "    data = request.args.get(\"nilai\")\n",
        "    return \"parsing argumennya adalah {}\".format(data)\n",
        "\n",
        "# sesi\n",
        "@app.route(\"/halaman/<int:nilai>\")\n",
        "def sesi_1(nilai):\n",
        "    session[\"nilaiku\"] = nilai\n",
        "    return \"nilai sudah disimpan\"\n",
        "\n",
        "@app.route(\"halaman/lihat\")\n",
        "def sesi_lihat():\n",
        "    data = session[\"nilaiku\"]\n",
        "    return \"datanya adalah {}\".format(data)\n",
        "if __name__ ==  '__main__':\n",
        "    app.run(debug=True)"
      ]
    },
    {
      "cell_type": "markdown",
      "metadata": {
        "id": "HNhlWx3PJKRE"
      },
      "source": [
        "# Redirect\n",
        "bagaimana caranya routing/ berpindah halaman di aplikasi flask. kita menggunakan fungsi `url_for` dan `redirect` yang diimport langsung dari library Flask. \n",
        "\n",
        "sangat bermanfaat untuk mengenerate url endpoint secara dinamis sehingga mempercepat dalam pembuatan web."
      ]
    },
    {
      "cell_type": "markdown",
      "metadata": {
        "id": "8CJQ1erZJKRE"
      },
      "source": [
        "**Berpindah Halaman**\n",
        "-> `url_for`\n",
        "\n",
        "- Dynamic URl --> menghasilkan URL\n",
        "- Dipanggil di file python atau template \n",
        "- http://localhost:5000/about --> `url_for('nama_fungsi')`\n",
        "- http://localhost:5000/about/<int:id> --> `url_for('nama_fungsi', id=nilai_id)`"
      ]
    },
    {
      "cell_type": "markdown",
      "metadata": {
        "id": "12iEoSpIJKRE"
      },
      "source": [
        "## fungsi baru url_for "
      ]
    },
    {
      "cell_type": "code",
      "execution_count": null,
      "metadata": {
        "id": "wuH0_OZpJKRF"
      },
      "outputs": [],
      "source": [
        "from flask import Flask, render_template, redirect, session, request, url_for\n",
        "app = Flask(__name__)\n",
        "@app.route('/mainlayout')\n",
        "def admin():   \n",
        "    return render_template('main_layout.html')\n",
        "\n",
        "# menjalankan kodenya\n",
        "if __name__ == '__main__':\n",
        "    app.run(debug=True)"
      ]
    },
    {
      "cell_type": "markdown",
      "metadata": {
        "id": "F9zVAKyNJKRF"
      },
      "source": [
        "**<center> kodingan di html </center>** \n",
        "<center>\n",
        "\n",
        "\n",
        "![image.png](attachment:image.png)\n",
        "\n",
        "\n",
        "\n",
        "kodingan ini akan berfungsi saat user menekan atau klik tautan "
      ]
    },
    {
      "cell_type": "markdown",
      "metadata": {
        "id": "taEHZznUJKRF"
      },
      "source": [
        "## redirect \n",
        "\n",
        "fungsi `redirect()` berguna untuk melakukan **pengalihan halaman** dari satu URL ke URL yang lain. ungsi ini sering digunakan setelah melakukan aksi tertentu mengarahkan pengguna ke halaman yang sesuai dengan tindakan yang dilakukan. "
      ]
    },
    {
      "cell_type": "code",
      "execution_count": null,
      "metadata": {
        "id": "ZVngXXDmJKRF"
      },
      "outputs": [],
      "source": [
        "from flask import Flask, render_template, session, url_for, redirect, request\n",
        "app = Flask(__name__)\n",
        "app.config[\"secret_key\"] = \"secret2013\"\n",
        "\n",
        "@app.route(\"/redirect-about\")\n",
        "def redirect_about():\n",
        "    return redirect(url_for(\"aboutku\")) # di dalam fungsi url_for hanya perlu mengisi nama fungsi yang akan ditampikan \n"
      ]
    },
    {
      "cell_type": "markdown",
      "metadata": {
        "id": "OpX8-0O6JKRG"
      },
      "source": [
        "konklusi:\n",
        "`url_for` dilakukan saat user mengklik tautan di halaman web\n",
        "redirect dilakukan di tab alamat web"
      ]
    },
    {
      "cell_type": "markdown",
      "metadata": {
        "id": "SoRWMV3vJKRG"
      },
      "source": [
        "# **bootstrap**\n",
        "- embed CSS bootsrap\n",
        "- embed JS bootstrap\n",
        "- pasang navifagation bar bootsrap\n",
        "- memasang file CSS di Jinja\n",
        "\n",
        "**Boostrap** adalah framework `CSS (Cascading Style Sheets)` yang digunakan untuk membangun tampilan front-end pada website secara cepat dan mudah. Bootsrap menyediakan sekumpulan komponen, gaya, dan fitur UI yang dapat digunakan untuk mempercepat proses pembuatan desain web.\n",
        "\n",
        "dengan menggunakan **Bootstrap**, developer dapat membangun tampilan web yang terlihat profesional dengan cepat dan mudah tanpa harus membuat gaya dan tata letak dari awal. Bootsrap juga sangat populer di kalangan pengembangan web karena mudah diperlajari dan digunakan, serta memiliki dokumentasi yang lengkap dan mendukung banyak browser dan perangkat.\n"
      ]
    },
    {
      "cell_type": "markdown",
      "metadata": {
        "id": "MKxRuYU2JKRG"
      },
      "source": [
        "## **Embed CSS**\n",
        "**Embed CSS Bootstrap** merujuk pada proses menyisipkan kode CSS dari framework Botstrap ke dalam halaman HTML atau dokumen WEB lainnya. Kode CSS ini berisi aturan styling untuk mengatur tampilan halaman web, seperti pengaturan warna, font, ukuran teks, layout, dan masih banyak lagi. Dengan menyisipkan kode CSS Bootstrap ke dalam halaman web. Pengembang dapat dengan mudah menambahkan fitur-fitur tampilan yang telah disediakan oleh Bootstrap, tanpa perlu menulis kode CSS dari awal. "
      ]
    },
    {
      "cell_type": "markdown",
      "metadata": {
        "id": "zIjsTZDvJKRG"
      },
      "source": [
        "<center>\n",
        "\n",
        "![image.png](attachment:image.png)\n",
        "\n",
        "\n",
        "https://getbootstrap.com/docs/5.3/getting-started/introduction/"
      ]
    },
    {
      "cell_type": "markdown",
      "metadata": {
        "id": "yKUa3g_nJKRG"
      },
      "source": [
        "kita hanya perlu mengambil     \n",
        "`<link href=\"https://cdn.jsdelivr.net/npm/bootstrap@5.3.0-alpha3/dist/css/bootstrap.min.css\" rel=\"stylesheet\" integrity=\"sha384-KK94CHFLLe+nY2dmCWGMq91rCGa5gtU4mk92HdvYe+M/SXH301p5ILy+dN9+nJOZ\" crossorigin=\"anonymous\">`\n"
      ]
    },
    {
      "cell_type": "markdown",
      "metadata": {
        "id": "ixo7hV6gJKRH"
      },
      "source": [
        "## **Embed JS**\n",
        "adalah proses menyisipkan kode JavaScript ke dalaman halamnan HTML atau dokumen web lainny. Kode JavaScript ini dapat digunakan untuk menambahkan interaktivitas ke halaman web, seperti animasi, validasi form, efek visual, dan banyak lagi. Ada beberapa cara untuk menyisipkan kode JavaScript ke dalaman halamnan HTML atau dokumen web, seperti menggunakan `tag<script>` di dalam HTML, atau menggunakan file JavaScript terpisah yang dipanggil dari halaman HTML."
      ]
    },
    {
      "cell_type": "markdown",
      "metadata": {
        "id": "yhhCeezwJKRH"
      },
      "source": [
        "# **Belajar Membuat Fitur Login Sederhana**\n",
        "- Setting Bootstrap\n",
        "- Session\n",
        "- Parsing Nilai via URL/Endpoint\n",
        "- `url_for()` $ `redirect()`"
      ]
    },
    {
      "cell_type": "code",
      "execution_count": null,
      "metadata": {
        "id": "zVpjwCUTJKRH"
      },
      "outputs": [],
      "source": [
        "from flask import Flask, render_template, request, session, url_for, redirect\n",
        "app = Flask(__name__)\n",
        "app.config[\"SECRET_KEY\"] = \"secretkeyku2023\"\n",
        "\n",
        "# main_layout\n",
        "@app.route('/')\n",
        "def main_layout():\n",
        "    return render_template('main_layout.html')\n",
        "\n",
        "# mainpage\n",
        "@app.route(\"/mainpage\")\n",
        "def mainpage():\n",
        "    return render_template('main_page.html')\n",
        "\n",
        "# login\n",
        "@app.route('/login')\n",
        "def loginku():\n",
        "    return render_template('login.html')\n",
        "\n",
        "\n",
        "# about\n",
        "@app.route('/about')\n",
        "def aboutku():\n",
        "    return render_template('about.html')\n",
        "\n",
        "# contact\n",
        "@app.route('/contact')\n",
        "def contact():\n",
        "    return render_template('contact.html')\n",
        "\n",
        "\n",
        "# parsing nilai interger\n",
        "@app.route('/parsing/<int:nilaiku>')\n",
        "def ayo_parsing(nilaiku):\n",
        "    return \"nilainya adalah : {} \".format(nilaiku)\n",
        "\n",
        "# Parsing nilai string\n",
        "\n",
        "\n",
        "@app.route('/parsing/<string:stringku>')\n",
        "def ayo_string(stringku):\n",
        "    return \"nilainya adalah : {} \".format(stringku)\n",
        "\n",
        "# parsing argument\n",
        "\n",
        "\n",
        "@app.route('/parse_argument')\n",
        "def parse_argument():\n",
        "    data = request.args.get(\"nilai\")\n",
        "    return \"parsing argumennya adalah {}\".format(data)\n",
        "\n",
        "# memparsing nilai dari url untuk mengeset nilai session\n",
        "\n",
        "\n",
        "@app.route(\"/halaman/<int:nilai>\")\n",
        "def session_1(nilai):\n",
        "    session[\"nilaiku\"] = nilai\n",
        "    return \"berhasil mengeset nilai\"\n",
        "\n",
        "\n",
        "@app.route(\"/halaman/lihat\")\n",
        "def view_session_1():\n",
        "    data = session[\"nilaiku\"]\n",
        "    return \"nilai yang telah diset adalah = {}\".format(data)\n",
        "\n",
        "# redirect\n",
        "@app.route(\"/redirect-about\")\n",
        "def redirect_about():\n",
        "    return redirect(url_for(\"aboutku\"))\n",
        "\n",
        "\n",
        "\n",
        "\n",
        "if __name__ == '__main__':\n",
        "    app.run(debug=True)\n"
      ]
    },
    {
      "cell_type": "markdown",
      "metadata": {
        "id": "QRAlfjdMJKRI"
      },
      "source": [
        "di sesi ini, lebih banyak bermain di file HTML."
      ]
    },
    {
      "cell_type": "markdown",
      "metadata": {
        "id": "tgToG9j1JKRI"
      },
      "source": [
        "Tugas pertama adalah membuat logika di backend login saat user menginput nama dan password.\n"
      ]
    },
    {
      "cell_type": "markdown",
      "metadata": {
        "id": "haT8zBo7JKRI"
      },
      "source": [
        "`request.form` pada Flask adalah objek yang menyimpan data yang dikirimkan melalui metode `POST`, data yang diisi oleh pengguna dikirmkan ke server. Objek `request.form` digunakan untuk mengkases dan mengelola data"
      ]
    },
    {
      "cell_type": "code",
      "execution_count": null,
      "metadata": {
        "id": "eIBUucjJJKRJ"
      },
      "outputs": [],
      "source": [
        "# login\n",
        "@app.route('/login', methods=['POST','GET'])\n",
        "def loginku():\n",
        "    # jika tombol button diklik -> request POST\n",
        "    if request.method == 'POST':\n",
        "        email = request.form['email']\n",
        "        password = request.form['password']\n",
        "        if email == 'admin@gmail.com' and password == 'pass':\n",
        "            session['email'] = email\n",
        "            return redirect(url_for(\"sukses\"))\n",
        "        # jika salah email atau password\n",
        "        else:\n",
        "            return redirect(url_for(\"loginku\"))\n",
        "    return render_template(\"login.html\")\n",
        "\n",
        "@app.route(\"/sukses\")\n",
        "def sukses():\n",
        "    return render_template('sukses.html')"
      ]
    },
    {
      "cell_type": "markdown",
      "metadata": {
        "id": "Z8Gxse1pJKRJ"
      },
      "source": [
        "## Pada tags input\n",
        "<center\n",
        "\n",
        ">\n",
        "![image.png](attachment:image.png)"
      ]
    },
    {
      "cell_type": "markdown",
      "metadata": {
        "id": "AeZBDxSeJKRJ"
      },
      "source": [
        "Kodingan tersebut merupakan elemen < input > pada HTML dengan beberapa atribut yang diberikan:\n",
        "\n",
        "- **type=\"email\"**: Atribut ini mendefinisikan tipe input sebagai email. Tipe email akan memberikan validasi dasar pada input yang memastikan bahwa nilai yang dimasukkan oleh pengguna mengikuti format email yang benar.\n",
        "- **name=\"email\"**: Atribut ini memberikan nama (name) kepada input field. Nama ini digunakan untuk mengidentifikasi dan mengambil nilai yang diinputkan oleh pengguna saat formulir dikirimkan ke server.\n",
        "- **class=\"form-control\"**: Atribut ini memberikan class (kelas) kepada elemen input untuk memungkinkan penerapan gaya dan pemformatan tertentu melalui CSS atau library CSS seperti Bootstrap.\n",
        "- **id=\"exampleInputEmail1\"**: Atribut ini memberikan id (identitas unik) kepada elemen input. Id ini dapat digunakan untuk tujuan referensi atau manipulasi melalui JavaScript atau CSS.\n",
        "- **aria-describedby=\"emailHelp\"**: Atribut ini memberikan referensi kepada elemen lain di halaman yang akan memberikan bantuan atau penjelasan tambahan untuk input field. Biasanya, referensi ini mengacu pada elemen lain yang memiliki atribut id yang sesuai.\n",
        "\n",
        "\n",
        "Kodingan ini biasanya digunakan dalam pembuatan formulir, khususnya untuk meminta input dari pengguna berupa alamat email. Dengan menggunakan atribut type=\"email\", browser dapat memberikan validasi dasar untuk memeriksa apakah nilai yang dimasukkan adalah alamat email yang valid. Selain itu, atribut name digunakan untuk mengidentifikasi input field tersebut saat formulir dikirimkan ke server."
      ]
    },
    {
      "cell_type": "markdown",
      "source": [
        "## Fungsi route()\n",
        "\n",
        "@app.route('/login', methods=['POST','GET'])\n",
        "\n",
        "fungsi `route` pada Flask digunakan untuk mendefinisikan rute atau URL dari aplikasi web yang dibuat. Dalam contoh yang diberikan.\n",
        "1. `@app.route('/login')`: ini adalah decorator yang menandai fungsi di bawahnya sebagai penanganan permintaan untuk rute `/login`. Decorator ini memberi tahu Flask untuk menghubungkan rute tersebut dengan fungsi yang ada di bawahnya.\n",
        "2. `methods=['POST', 'GET']`: Parameter opsional 'methods' digunakan untuk menentukan metode HTTP mana yang diizinkan untuk mengakses rute. Dalam contoh ini =, metode HTTP POST dan GET diizinkan. Metode 'POST' biasanya digunakan untuk mengirimkan data dari formulir ke server, sementara metode 'GET` digunakann untuk mengambil data dari server.\n",
        "\n",
        "Jadi, dengan konfigurasi ini, saat aplikasi Flask berjalan, rute `/login` akan ditangani oleh fungsi dengan dekorator tersebut, dan dapat menngakses rute tersebut menggunakan metode HTTP POST dan GET\n"
      ],
      "metadata": {
        "id": "N7HNYOumJNlU"
      }
    }
  ],
  "metadata": {
    "kernelspec": {
      "display_name": "base",
      "language": "python",
      "name": "python3"
    },
    "language_info": {
      "codemirror_mode": {
        "name": "ipython",
        "version": 3
      },
      "file_extension": ".py",
      "mimetype": "text/x-python",
      "name": "python",
      "nbconvert_exporter": "python",
      "pygments_lexer": "ipython3",
      "version": "3.9.13"
    },
    "orig_nbformat": 4,
    "colab": {
      "provenance": [],
      "include_colab_link": true
    }
  },
  "nbformat": 4,
  "nbformat_minor": 0
}